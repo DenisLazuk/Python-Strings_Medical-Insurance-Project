{
 "cells": [
  {
   "cell_type": "code",
   "execution_count": 1,
   "id": "0ce8460c",
   "metadata": {},
   "outputs": [
    {
     "name": "stdout",
     "output_type": "stream",
     "text": [
      "Marina Allison   ,27   ,   31.1 , \n",
      "#7010.0   ;Markus Valdez   ,   30, \n",
      "22.4,   #4050.0 ;Connie Ballard ,43 \n",
      ",   25.3 , #12060.0 ;Darnell Weber   \n",
      ",   35   , 20.6   , #7500.0;\n",
      "Sylvie Charles   ,22, 22.1 \n",
      ",#3022.0   ;   Vinay Padilla,24,   \n",
      "26.9 ,#4620.0 ;Meredith Santiago, 51   , \n",
      "29.3 ,#16330.0;   Andre Mccarty, \n",
      "19,22.7 , #2900.0 ; \n",
      "Lorena Hodson ,65, 33.1 , #19370.0; \n",
      "Isaac Vu ,34, 24.8,   #7045.0\n"
     ]
    }
   ],
   "source": [
    "# Raw data\n",
    "medical_data = \\\n",
    "\"\"\"Marina Allison   ,27   ,   31.1 , \n",
    "#7010.0   ;Markus Valdez   ,   30, \n",
    "22.4,   #4050.0 ;Connie Ballard ,43 \n",
    ",   25.3 , #12060.0 ;Darnell Weber   \n",
    ",   35   , 20.6   , #7500.0;\n",
    "Sylvie Charles   ,22, 22.1 \n",
    ",#3022.0   ;   Vinay Padilla,24,   \n",
    "26.9 ,#4620.0 ;Meredith Santiago, 51   , \n",
    "29.3 ,#16330.0;   Andre Mccarty, \n",
    "19,22.7 , #2900.0 ; \n",
    "Lorena Hodson ,65, 33.1 , #19370.0; \n",
    "Isaac Vu ,34, 24.8,   #7045.0\"\"\"\n",
    "\n",
    "# Add your code here\n",
    "print(medical_data)\n"
   ]
  },
  {
   "cell_type": "code",
   "execution_count": 3,
   "id": "0e47262b",
   "metadata": {},
   "outputs": [
    {
     "name": "stdout",
     "output_type": "stream",
     "text": [
      "Marina Allison   ,27   ,   31.1 , \n",
      "$7010.0   ;Markus Valdez   ,   30, \n",
      "22.4,   $4050.0 ;Connie Ballard ,43 \n",
      ",   25.3 , $12060.0 ;Darnell Weber   \n",
      ",   35   , 20.6   , $7500.0;\n",
      "Sylvie Charles   ,22, 22.1 \n",
      ",$3022.0   ;   Vinay Padilla,24,   \n",
      "26.9 ,$4620.0 ;Meredith Santiago, 51   , \n",
      "29.3 ,$16330.0;   Andre Mccarty, \n",
      "19,22.7 , $2900.0 ; \n",
      "Lorena Hodson ,65, 33.1 , $19370.0; \n",
      "Isaac Vu ,34, 24.8,   $7045.0\n"
     ]
    }
   ],
   "source": [
    "# Replace all instances of # in medical_data with $. Store the result in a variable called updated_medical_data.\n",
    "# Print updated_medical_data.\n",
    "\n",
    "updated_medical_data = medical_data.replace(\"#\",\"$\")\n",
    "print(updated_medical_data)"
   ]
  },
  {
   "cell_type": "code",
   "execution_count": 5,
   "id": "f789a764",
   "metadata": {},
   "outputs": [
    {
     "name": "stdout",
     "output_type": "stream",
     "text": [
      "There are 10 medical records in the data\n"
     ]
    }
   ],
   "source": [
    "# Create a variable called num_records and initialize it at 0. \n",
    "# Next, write a for loop to iterate through the updated_medical_data string. \n",
    "# Inside of the loop, add 1 to num_records when the current character is equal to $\n",
    "\n",
    "num_records = 0\n",
    "for i in updated_medical_data:\n",
    "  if i == \"$\":\n",
    "     num_records += 1\n",
    "\n",
    "# Outside of the loop, print num_records with the following message:\n",
    "print(\"There are {} medical records in the data\".format(num_records))"
   ]
  },
  {
   "cell_type": "code",
   "execution_count": 6,
   "id": "28959b62",
   "metadata": {},
   "outputs": [
    {
     "name": "stdout",
     "output_type": "stream",
     "text": [
      "['Marina Allison   ,27   ,   31.1 , \\n$7010.0   ', 'Markus Valdez   ,   30, \\n22.4,   $4050.0 ', 'Connie Ballard ,43 \\n,   25.3 , $12060.0 ', 'Darnell Weber   \\n,   35   , 20.6   , $7500.0', '\\nSylvie Charles   ,22, 22.1 \\n,$3022.0   ', '   Vinay Padilla,24,   \\n26.9 ,$4620.0 ', 'Meredith Santiago, 51   , \\n29.3 ,$16330.0', '   Andre Mccarty, \\n19,22.7 , $2900.0 ', ' \\nLorena Hodson ,65, 33.1 , $19370.0', ' \\nIsaac Vu ,34, 24.8,   $7045.0']\n"
     ]
    }
   ],
   "source": [
    "# Let’s start off by splitting the updated_medical_data string into a list of each medical record. \n",
    "# Remember that each medical record is separated by a ; in the string.\n",
    "# Store the result in a variable called medical_data_split and print this variable.\n",
    "\n",
    "medical_data_split = updated_medical_data.split(';')\n",
    "print(medical_data_split)"
   ]
  },
  {
   "cell_type": "code",
   "execution_count": 7,
   "id": "472a11ec",
   "metadata": {},
   "outputs": [
    {
     "name": "stdout",
     "output_type": "stream",
     "text": [
      "[['Marina Allison   ', '27   ', '   31.1 ', ' \\n$7010.0   '], ['Markus Valdez   ', '   30', ' \\n22.4', '   $4050.0 '], ['Connie Ballard ', '43 \\n', '   25.3 ', ' $12060.0 '], ['Darnell Weber   \\n', '   35   ', ' 20.6   ', ' $7500.0'], ['\\nSylvie Charles   ', '22', ' 22.1 \\n', '$3022.0   '], ['   Vinay Padilla', '24', '   \\n26.9 ', '$4620.0 '], ['Meredith Santiago', ' 51   ', ' \\n29.3 ', '$16330.0'], ['   Andre Mccarty', ' \\n19', '22.7 ', ' $2900.0 '], [' \\nLorena Hodson ', '65', ' 33.1 ', ' $19370.0'], [' \\nIsaac Vu ', '34', ' 24.8', '   $7045.0']]\n"
     ]
    }
   ],
   "source": [
    "# Our data is now stored in a list, but it is still hard to read. Let’s split each medical record into its own list.\n",
    "# First, define an empty list called medical_records.\n",
    "\n",
    "medical_records = []\n",
    "\n",
    "# Next, iterate through medical_data_split and for each record, split the string after each comma (,) \n",
    "# and append the split string to medical_records.\n",
    "# Print medical_records after the loop.\n",
    "\n",
    "for i in medical_data_split:\n",
    "  medical_records.append(i.split(\",\"))\n",
    "print(medical_records)"
   ]
  },
  {
   "cell_type": "code",
   "execution_count": 9,
   "id": "53cb098d",
   "metadata": {},
   "outputs": [
    {
     "name": "stdout",
     "output_type": "stream",
     "text": [
      "[['Marina Allison', '27', '31.1', '$7010.0'], ['Markus Valdez', '30', '22.4', '$4050.0'], ['Connie Ballard', '43', '25.3', '$12060.0'], ['Darnell Weber', '35', '20.6', '$7500.0'], ['Sylvie Charles', '22', '22.1', '$3022.0'], ['Vinay Padilla', '24', '26.9', '$4620.0'], ['Meredith Santiago', '51', '29.3', '$16330.0'], ['Andre Mccarty', '19', '22.7', '$2900.0'], ['Lorena Hodson', '65', '33.1', '$19370.0'], ['Isaac Vu', '34', '24.8', '$7045.0']]\n"
     ]
    }
   ],
   "source": [
    "# Our data is now slightly more readable. However, it is not properly formatted – it contains unnecessary whitespace.\n",
    "# To fix this, let’s start by creating an empty list called medical_records_clean\n",
    "\n",
    "medical_records_clean = []\n",
    "\n",
    "# Next, use a for loop to iterate through medical_records.\n",
    "# Inside of the loop, create an empty list called record_clean. \n",
    "# We’ll use this list to store a formatted version of each medical record.\n",
    "# After the record_clean variable, create a nested for loop that goes through each record\n",
    "# Inside of this loop, append item.strip() to record_clean to remove any whitespace from the string.\n",
    "# Finally, we need to add each cleaned up record to medical_records_clean.\n",
    "# Outside of the nested for loop, append record_clean to medical_records_clean.\n",
    "\n",
    "for i in medical_records:\n",
    "  record_clean = []\n",
    "  for item in i:\n",
    "    record_clean.append(item.strip())\n",
    "  medical_records_clean.append(record_clean)\n",
    "\n",
    "# Print medical_records_clean outside of the for loops to see the output.\n",
    "\n",
    "print(medical_records_clean)"
   ]
  },
  {
   "cell_type": "code",
   "execution_count": 10,
   "id": "3c8c105c",
   "metadata": {},
   "outputs": [
    {
     "name": "stdout",
     "output_type": "stream",
     "text": [
      "MARINA ALLISON\n",
      "MARKUS VALDEZ\n",
      "CONNIE BALLARD\n",
      "DARNELL WEBER\n",
      "SYLVIE CHARLES\n",
      "VINAY PADILLA\n",
      "MEREDITH SANTIAGO\n",
      "ANDRE MCCARTY\n",
      "LORENA HODSON\n",
      "ISAAC VU\n"
     ]
    }
   ],
   "source": [
    "# You want all of the names in the medical records to be in uppercase characters.\n",
    "# In the for loop, update records[0] before the print statement so that all of the characters are uppercase.\n",
    "\n",
    "for i in medical_records_clean:\n",
    "  i[0] = i[0].upper()\n",
    "  print(i[0])"
   ]
  },
  {
   "cell_type": "code",
   "execution_count": 11,
   "id": "415c9e46",
   "metadata": {},
   "outputs": [
    {
     "name": "stdout",
     "output_type": "stream",
     "text": [
      "Names: ['MARINA ALLISON', 'MARKUS VALDEZ', 'CONNIE BALLARD', 'DARNELL WEBER', 'SYLVIE CHARLES', 'VINAY PADILLA', 'MEREDITH SANTIAGO', 'ANDRE MCCARTY', 'LORENA HODSON', 'ISAAC VU']\n",
      "Ages: ['27', '30', '43', '35', '22', '24', '51', '19', '65', '34']\n",
      "BMIs: ['31.1', '22.4', '25.3', '20.6', '22.1', '26.9', '29.3', '22.7', '33.1', '24.8']\n",
      "Insurance costs: ['$7010.0', '$4050.0', '$12060.0', '$7500.0', '$3022.0', '$4620.0', '$16330.0', '$2900.0', '$19370.0', '$7045.0']\n"
     ]
    }
   ],
   "source": [
    "# Let’s store each name, age, BMI, and insurance cost in separate lists.\n",
    "# To start, create four empty lists:\n",
    "# names\n",
    "# ages\n",
    "# bmis\n",
    "# insurance_costs\n",
    "\n",
    "names = []\n",
    "ages = []\n",
    "bmis = []\n",
    "insurance_costs = []\n",
    "\n",
    "# Next, iterate through medical_records_clean and for each record:\n",
    "# Append the name to names.\n",
    "# Append the age to ages.\n",
    "# Append the BMI to bmis.\n",
    "# Append the insurance cost to insurance_costs.\n",
    "\n",
    "for i in medical_records_clean:\n",
    "  names.append(i[0])\n",
    "  ages.append(i[1])\n",
    "  bmis.append(i[2])\n",
    "  insurance_costs.append(i[3])\n",
    "\n",
    "# Print names, ages, bmis, and insurance_costs outside of the loop.    \n",
    "\n",
    "print(\"Names: \" + str(names))\n",
    "print(\"Ages: \" + str(ages))\n",
    "print(\"BMIs: \" + str(bmis))\n",
    "print(\"Insurance costs: \" + str(insurance_costs))"
   ]
  },
  {
   "cell_type": "code",
   "execution_count": 12,
   "id": "22843508",
   "metadata": {},
   "outputs": [
    {
     "name": "stdout",
     "output_type": "stream",
     "text": [
      "Average BMI: 25.83\n"
     ]
    }
   ],
   "source": [
    "# Now that all of our data is in separate lists, we can easily perform analysis on that data. \n",
    "# Let’s calculate the average BMI in our dataset.\n",
    "# First, create a variable called total_bmi and set it equal to 0.\n",
    "\n",
    "total_bmi = 0\n",
    "\n",
    "# Next, use a for loop to iterate through bmis and add each bmi to total_bmi.\n",
    "\n",
    "for i in bmis:\n",
    "  total_bmi += float(i)\n",
    "\n",
    "# After the for loop, create a variable called average_bmi that stores the total_bmi divided by the length of the bmis list.\n",
    "\n",
    "average_bmi = round(total_bmi / len(bmis), 2)\n",
    "print(\"Average BMI: {}\".format(average_bmi))"
   ]
  },
  {
   "cell_type": "code",
   "execution_count": 15,
   "id": "1ac518ea",
   "metadata": {},
   "outputs": [
    {
     "name": "stdout",
     "output_type": "stream",
     "text": [
      "Average insurance cost: 8390.7 US dollars\n"
     ]
    }
   ],
   "source": [
    "# Extra 1\n",
    "# Calculate the average insurance cost in insurance_costs.\n",
    "\n",
    "total_cost = 0\n",
    "for i in insurance_costs:\n",
    "   total_cost += float(i.strip(\"$\"))\n",
    "average_cost = round(total_cost / len(insurance_costs), 2)\n",
    "print(\"Average insurance cost: {} US dollars\".format(average_cost))"
   ]
  },
  {
   "cell_type": "code",
   "execution_count": 16,
   "id": "69c17a8f",
   "metadata": {},
   "outputs": [
    {
     "name": "stdout",
     "output_type": "stream",
     "text": [
      "MARINA ALLISON is 27 years old with a BMI of 31.1 and an insurance cost of $7010.0.\n",
      "MARKUS VALDEZ is 30 years old with a BMI of 22.4 and an insurance cost of $4050.0.\n",
      "CONNIE BALLARD is 43 years old with a BMI of 25.3 and an insurance cost of $12060.0.\n",
      "DARNELL WEBER is 35 years old with a BMI of 20.6 and an insurance cost of $7500.0.\n",
      "SYLVIE CHARLES is 22 years old with a BMI of 22.1 and an insurance cost of $3022.0.\n",
      "VINAY PADILLA is 24 years old with a BMI of 26.9 and an insurance cost of $4620.0.\n",
      "MEREDITH SANTIAGO is 51 years old with a BMI of 29.3 and an insurance cost of $16330.0.\n",
      "ANDRE MCCARTY is 19 years old with a BMI of 22.7 and an insurance cost of $2900.0.\n",
      "LORENA HODSON is 65 years old with a BMI of 33.1 and an insurance cost of $19370.0.\n",
      "ISAAC VU is 34 years old with a BMI of 24.8 and an insurance cost of $7045.0.\n"
     ]
    }
   ],
   "source": [
    "# Extra 2\n",
    "# Write a for loop that outputs a string for each individual\n",
    "\n",
    "for i in range(len(names)):\n",
    "  name = names[i]\n",
    "  age = ages[i]\n",
    "  bmi = bmis[i]\n",
    "  insurance_cost = insurance_costs[i]\n",
    "  print (\"{} is {} years old with a BMI of {} and an insurance cost of {}.\".format(name, age, bmi, insurance_cost))"
   ]
  }
 ],
 "metadata": {
  "kernelspec": {
   "display_name": "Python 3 (ipykernel)",
   "language": "python",
   "name": "python3"
  },
  "language_info": {
   "codemirror_mode": {
    "name": "ipython",
    "version": 3
   },
   "file_extension": ".py",
   "mimetype": "text/x-python",
   "name": "python",
   "nbconvert_exporter": "python",
   "pygments_lexer": "ipython3",
   "version": "3.9.7"
  }
 },
 "nbformat": 4,
 "nbformat_minor": 5
}
